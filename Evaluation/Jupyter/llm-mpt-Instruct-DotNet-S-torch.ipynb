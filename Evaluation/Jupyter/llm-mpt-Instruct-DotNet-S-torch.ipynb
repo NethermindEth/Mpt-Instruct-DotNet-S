{
 "cells": [
  {
   "cell_type": "code",
   "execution_count": 1,
   "id": "660e9019",
   "metadata": {},
   "outputs": [
    {
     "name": "stdout",
     "output_type": "stream",
     "text": [
      "CUDA (GPU support) is available and PyTorch can use GPUs!\n",
      "Instantiating an MPTForCausalLM model from /root/.cache/huggingface/modules/transformers_modules/mosaicml/mpt-7b-instruct/925e0d80e50e77aaddaf9c3ced41ca4ea23a1025/modeling_mpt.py\n",
      "You are using config.init_device=device(type='cuda'), but you can also use config.init_device=\"meta\" with Composer + FSDP for fast initialization.\n"
     ]
    }
   ],
   "source": [
    "import os\n",
    "from glob import glob\n",
    "import random\n",
    "\n",
    "import torch\n",
    "import transformers\n",
    "from transformers import PreTrainedTokenizerFast\n",
    "from transformers import AutoTokenizer\n",
    "from transformers import set_seed\n",
    "\n",
    "import pynvml\n",
    "\n",
    "def check_gpu_memory():\n",
    "    pynvml.nvmlInit()\n",
    "    handle = pynvml.nvmlDeviceGetHandleByIndex(torch.cuda.current_device())\n",
    "    info = pynvml.nvmlDeviceGetMemoryInfo(handle)\n",
    "    pynvml.nvmlShutdown()\n",
    "\n",
    "    return info.free / (1024**2)  # Returns free memory in MB\n",
    "\n",
    "if torch.cuda.is_available():\n",
    "    print(\"CUDA (GPU support) is available and PyTorch can use GPUs!\")\n",
    "    device = torch.device(\"cuda\")\n",
    "else:\n",
    "    print(\"CUDA (GPU support) is not available and PyTorch will use the CPU.\")\n",
    "    device = torch.device(\"cpu\")\n",
    "    raise ValueError(\"No GPU found, use GGML!\")\n",
    "\n",
    "model_name = \"Nethermind/Mpt-Instruct-DotNet-S\"\n",
    "config = transformers.AutoConfig.from_pretrained(out_name, trust_remote_code=True)\n",
    "config.init_device = device\n",
    "config.max_seq_len = 1024 \n",
    "config.attn_config['attn_impl'] = 'torch'\n",
    "config.use_cache = False\n",
    "\n",
    "\n",
    "free_memory_MB = check_gpu_memory()\n",
    "if free_memory_MB >= 15000:\n",
    "    print(\"We will run model in the fastest possible configuration.\")\n",
    "    model = transformers.AutoModelForCausalLM.from_pretrained(\n",
    "        model_name,\n",
    "        config=config,\n",
    "        torch_dtype=torch.bfloat16,\n",
    "        trust_remote_code=True,\n",
    "        ignore_mismatched_sizes=True\n",
    "    )\n",
    "elif free_memory_MB >= 8000:\n",
    "    print(\"We will run model with minimal GPU memory footprint as possible.\")\n",
    "    model = transformers.AutoModelForCausalLM.from_pretrained(\n",
    "        model_name,\n",
    "        config=config,\n",
    "        torch_dtype=torch.bfloat16,\n",
    "        trust_remote_code=True,\n",
    "        ignore_mismatched_sizes=True,\n",
    "        load_in_8bit=True\n",
    "    )\n",
    "else:\n",
    "    raise ValueError(\"Insufficient GPU memory!\")\n",
    "\n",
    "model = model.eval()\n",
    "\n",
    "tokenizer = AutoTokenizer.from_pretrained(\"EleutherAI/gpt-neox-20b\")\n",
    "tokenizer.pad_token = tokenizer.eos_token"
   ]
  },
  {
   "cell_type": "code",
   "execution_count": 10,
   "id": "ace956f4",
   "metadata": {},
   "outputs": [],
   "source": [
    "from markdownify import markdownify as md\n",
    "import ftfy\n",
    "from IPython.display import display, Markdown\n",
    "\n",
    "INSTRUCTION_KEY = \"### Instruction:\"\n",
    "RESPONSE_KEY = \"### Response:\"\n",
    "PROMPT_FOR_GENERATION_FORMAT = \"\"\"{system}\n",
    "{instruction_key}\n",
    "{instruction}\n",
    "{response_key}\n",
    "\"\"\".format(\n",
    "    system=\"{system}\",\n",
    "    instruction_key=INSTRUCTION_KEY,\n",
    "    instruction=\"{instruction}\",\n",
    "    response_key=RESPONSE_KEY\n",
    ")\n",
    "\n",
    "\n",
    "def give_answer(instruction=\"Create a loop over [0, 6, 7 , 77] that prints its contentrs\", system=\"You are an experienced .Net C# developer. Below is an instruction that describes a task. Write a response that completes the request providing detailed explanations with code examples.\", ):\n",
    "    question = PROMPT_FOR_GENERATION_FORMAT.format(system=system, instruction=instruction)\n",
    "    input_tokens = tokenizer.encode(question ,return_tensors='pt')               \n",
    "    model.generate(input_tokens.to(device), max_new_tokens=min(512, 1024 - input_tokens.shape[1]), do_sample=False, top_k=1, top_p=0.95)\n",
    "    outputs = output_loop(tokenized_question)\n",
    "    answer = tokenizer.batch_decode(outputs, skip_special_tokens=True)\n",
    "    print(answer[0])\n",
    "\n",
    "    # Convert HTML to Markdown\n",
    "    markdown = md(ftfy.fix_text(answer[0]))\n",
    "    display(Markdown(markdown+ \"\\n----\"))\n",
    "    return markdown"
   ]
  },
  {
   "cell_type": "code",
   "execution_count": 11,
   "id": "3e1c8f44",
   "metadata": {
    "scrolled": false
   },
   "outputs": [
    {
     "name": "stdout",
     "output_type": "stream",
     "text": [
      "58 1942\n",
      "You are an experienced.Net C# developer. Below is an instruction that describes a task. Write a response that completes the request providing detailed explanations with code examples.\n",
      "### Instruction:\n",
      "What is the main difference between a struct and a class in C#?\n",
      "### Response:\n",
      "A struct is a value type that is used to encapsulate small groups of related variables. It is similar to a record in C# 9.0. A class, on the other hand, is a reference type that is used to encapsulate objects with different properties and methods. It is more flexible than a struct and can be used to create objects with properties and methods specific to the class.\n",
      "\n"
     ]
    },
    {
     "data": {
      "text/markdown": [
       "You are an experienced.Net C# developer. Below is an instruction that describes a task. Write a response that completes the request providing detailed explanations with code examples.\n",
       "### Instruction:\n",
       "What is the main difference between a struct and a class in C#?\n",
       "### Response:\n",
       "A struct is a value type that is used to encapsulate small groups of related variables. It is similar to a record in C# 9.0. A class, on the other hand, is a reference type that is used to encapsulate objects with different properties and methods. It is more flexible than a struct and can be used to create objects with properties and methods specific to the class.\n",
       "\n",
       "----"
      ],
      "text/plain": [
       "<IPython.core.display.Markdown object>"
      ]
     },
     "metadata": {},
     "output_type": "display_data"
    },
    {
     "name": "stdout",
     "output_type": "stream",
     "text": [
      "----------------------\n",
      "139 1861\n",
      "You are an experienced.Net C# developer. Below is an instruction that describes a task. Write a response that completes the request providing detailed explanations with code examples.\n",
      "### Instruction:\n",
      "interface IRobot {\n",
      "    void Take(string what);\n",
      "    void Cut(int size);\n",
      "    void Give(string to);\n",
      "}\n",
      "\n",
      "You are a robot. Create a sample of _api usage performing what is asked in Example:\n",
      "Rick asks a robot: slice and pass me the butter, please\n",
      "\n",
      "Create example using _api continuing this code:\n",
      "class Request {\n",
      "    IRobot _api;\n",
      "    void Do() {\n",
      "\n",
      "### Response:\n",
      "// Interface declaration\n",
      "interface IRobot {\n",
      "    void Take(string what);\n",
      "    void Cut(int size);\n",
      "    void Give(string to);\n",
      "}\n",
      "\n",
      "// Implementation of the interface\n",
      "class Robot : IRobot {\n",
      "    public void Take(string what) {\n",
      "        // Implementation code\n",
      "    }\n",
      "\n",
      "    public void Cut(int size) {\n",
      "        // Implementation code\n",
      "    }\n",
      "\n",
      "    public void Give(string to) {\n",
      "        // Implementation code\n",
      "    }\n",
      "}\n",
      "\n",
      "// Usage of the interface\n",
      "class Program {\n",
      "    static void Main(string[] args) {\n",
      "        // Creating an instance of the robot class\n",
      "        IRobot api = new Robot();\n",
      "\n",
      "        // Invoking the methods on the interface\n",
      "        api.Take(\"Butter\");\n",
      "        api.Cut(5);\n",
      "        api.Give(\"To Rick\");\n",
      "    }\n",
      "}\n",
      "\n"
     ]
    },
    {
     "data": {
      "text/markdown": [
       "You are an experienced.Net C# developer. Below is an instruction that describes a task. Write a response that completes the request providing detailed explanations with code examples.\n",
       "### Instruction:\n",
       "interface IRobot {\n",
       " void Take(string what);\n",
       " void Cut(int size);\n",
       " void Give(string to);\n",
       "}\n",
       "\n",
       "You are a robot. Create a sample of \\_api usage performing what is asked in Example:\n",
       "Rick asks a robot: slice and pass me the butter, please\n",
       "\n",
       "Create example using \\_api continuing this code:\n",
       "class Request {\n",
       " IRobot \\_api;\n",
       " void Do() {\n",
       "\n",
       "### Response:\n",
       "// Interface declaration\n",
       "interface IRobot {\n",
       " void Take(string what);\n",
       " void Cut(int size);\n",
       " void Give(string to);\n",
       "}\n",
       "\n",
       "// Implementation of the interface\n",
       "class Robot : IRobot {\n",
       " public void Take(string what) {\n",
       " // Implementation code\n",
       " }\n",
       "\n",
       " public void Cut(int size) {\n",
       " // Implementation code\n",
       " }\n",
       "\n",
       " public void Give(string to) {\n",
       " // Implementation code\n",
       " }\n",
       "}\n",
       "\n",
       "// Usage of the interface\n",
       "class Program {\n",
       " static void Main(string[] args) {\n",
       " // Creating an instance of the robot class\n",
       " IRobot api = new Robot();\n",
       "\n",
       " // Invoking the methods on the interface\n",
       " api.Take(\"Butter\");\n",
       " api.Cut(5);\n",
       " api.Give(\"To Rick\");\n",
       " }\n",
       "}\n",
       "\n",
       "----"
      ],
      "text/plain": [
       "<IPython.core.display.Markdown object>"
      ]
     },
     "metadata": {},
     "output_type": "display_data"
    },
    {
     "name": "stdout",
     "output_type": "stream",
     "text": [
      "CPU times: user 1min 25s, sys: 480 ms, total: 1min 26s\n",
      "Wall time: 1min 26s\n"
     ]
    },
    {
     "data": {
      "text/plain": [
       "'You are an experienced.Net C# developer. Below is an instruction that describes a task. Write a response that completes the request providing detailed explanations with code examples.\\n### Instruction:\\ninterface IRobot {\\n void Take(string what);\\n void Cut(int size);\\n void Give(string to);\\n}\\n\\nYou are a robot. Create a sample of \\\\_api usage performing what is asked in Example:\\nRick asks a robot: slice and pass me the butter, please\\n\\nCreate example using \\\\_api continuing this code:\\nclass Request {\\n IRobot \\\\_api;\\n void Do() {\\n\\n### Response:\\n// Interface declaration\\ninterface IRobot {\\n void Take(string what);\\n void Cut(int size);\\n void Give(string to);\\n}\\n\\n// Implementation of the interface\\nclass Robot : IRobot {\\n public void Take(string what) {\\n // Implementation code\\n }\\n\\n public void Cut(int size) {\\n // Implementation code\\n }\\n\\n public void Give(string to) {\\n // Implementation code\\n }\\n}\\n\\n// Usage of the interface\\nclass Program {\\n static void Main(string[] args) {\\n // Creating an instance of the robot class\\n IRobot api = new Robot();\\n\\n // Invoking the methods on the interface\\n api.Take(\"Butter\");\\n api.Cut(5);\\n api.Give(\"To Rick\");\\n }\\n}\\n'"
      ]
     },
     "execution_count": 11,
     "metadata": {},
     "output_type": "execute_result"
    }
   ],
   "source": [
    "%%time\n",
    "give_answer(\"What is the main difference between a struct and a class in C#?\")\n",
    "\n",
    "print(\"----------------------\")\n",
    "\n",
    "give_answer(\"\"\"interface IRobot {\n",
    "    void Take(string what);\n",
    "    void Cut(int size);\n",
    "    void Give(string to);\n",
    "}\n",
    "\n",
    "You are a robot. Create a sample of _api usage performing what is asked in Example:\n",
    "Rick asks a robot: slice and pass me the butter, please\n",
    "\n",
    "Create example using _api continuing this code:\n",
    "class Request {\n",
    "    IRobot _api;\n",
    "    void Do() {\n",
    "\"\"\")\n"
   ]
  },
  {
   "cell_type": "code",
   "execution_count": 4,
   "id": "f3dc5f68-6e63-46fa-8235-15cac7705710",
   "metadata": {},
   "outputs": [
    {
     "name": "stdout",
     "output_type": "stream",
     "text": [
      "huggingface/tokenizers: The current process just got forked, after parallelism has already been used. Disabling parallelism to avoid deadlocks...\n",
      "To disable this warning, you can either:\n",
      "\t- Avoid using `tokenizers` before the fork if possible\n",
      "\t- Explicitly set the environment variable TOKENIZERS_PARALLELISM=(true | false)\n",
      "Sun Aug 20 22:33:21 2023       \r\n",
      "+---------------------------------------------------------------------------------------+\r\n",
      "| NVIDIA-SMI 535.54.06              Driver Version: 536.40       CUDA Version: 12.2     |\r\n",
      "|-----------------------------------------+----------------------+----------------------+\r\n",
      "| GPU  Name                 Persistence-M | Bus-Id        Disp.A | Volatile Uncorr. ECC |\r\n",
      "| Fan  Temp   Perf          Pwr:Usage/Cap |         Memory-Usage | GPU-Util  Compute M. |\r\n",
      "|                                         |                      |               MIG M. |\r\n",
      "|=========================================+======================+======================|\r\n",
      "|   0  NVIDIA GeForce RTX 4090        On  | 00000000:61:00.0  On |                  Off |\r\n",
      "| 36%   61C    P2             288W / 450W |  21975MiB / 24564MiB |     98%      Default |\r\n",
      "|                                         |                      |                  N/A |\r\n",
      "+-----------------------------------------+----------------------+----------------------+\r\n",
      "                                                                                         \r\n",
      "+---------------------------------------------------------------------------------------+\r\n",
      "| Processes:                                                                            |\r\n",
      "|  GPU   GI   CI        PID   Type   Process name                            GPU Memory |\r\n",
      "|        ID   ID                                                             Usage      |\r\n",
      "|=======================================================================================|\r\n",
      "|    0   N/A  N/A       347      G   /Xwayland                                 N/A      |\r\n",
      "|    0   N/A  N/A      2785      G   /Xwayland                                 N/A      |\r\n",
      "|    0   N/A  N/A      3137      C   /python3.8                                N/A      |\r\n",
      "+---------------------------------------------------------------------------------------+\r\n"
     ]
    }
   ],
   "source": [
    "!nvidia-smi"
   ]
  }
 ],
 "metadata": {
  "kernelspec": {
   "display_name": "Python 3 (ipykernel)",
   "language": "python",
   "name": "python3"
  },
  "language_info": {
   "codemirror_mode": {
    "name": "ipython",
    "version": 3
   },
   "file_extension": ".py",
   "mimetype": "text/x-python",
   "name": "python",
   "nbconvert_exporter": "python",
   "pygments_lexer": "ipython3",
   "version": "3.9.12"
  }
 },
 "nbformat": 4,
 "nbformat_minor": 5
}
